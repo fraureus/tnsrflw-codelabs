{
 "cells": [
  {
   "cell_type": "markdown",
   "metadata": {
    "collapsed": true
   },
   "source": [
    "# TensorFlow+Docker Setup Guide for Windows"
   ]
  },
  {
   "cell_type": "markdown",
   "metadata": {},
   "source": [
    "Hi, guys! I'm Justin. I drafted this quick setup guide to help you guys prepare for our upcoming workshop on TensorFlow. I encourage you all to do this as early as possible so we can immediately start with our session.\n",
    "\n",
    "There are actually many ways to install Tensorflow, but for purpose of the workshop, this guide will only show you how to install TensorFlow using Docker. \n",
    "\n",
    "What is this thing called Docker, you might wonder? Docker is a software container tool that will do most of the heavy-lifting and handling of dependencies for us. Any piece of software along with everything it needs to run are packaged into an 'isolated container'. Using that container or image on Docker, the software is guaranteed to run the same way every time, and on any machine.\n",
    "\n",
    "> ### Note:\n",
    "> This guide will cover the Docker installation process for Windows only. That means the same instructions might not necessarily work for Mac or Linux. So if you do operate on a different machine, please follow the specific guides for installing Docker on your OS from the respective links below. Once you have the installed Docker successfully, you can start to follow along with the guide from **`Step 2`**.\n",
    "> - Docker for Mac OS X: https://docs.docker.com/docker-for-mac/\n",
    "> - Docker for Linux: https://www.tensorflow.org/versions/r0.12/get_started/os_setup.html#docker-installation\n",
    "\n",
    "![alt text](images/docker-whale.png \"Docker Logo\")\n",
    "\n",
    "---\n",
    "\n",
    "## [WARNING] Oh, one more thing! Before you scroll down any further, Docker actually requires a 64-bit OS running in your machine.\n",
    "\n",
    "> _Awww -- sad, I know. :(_\n",
    "\n",
    "> But that's okay, you can still share with a classmate! :)\n",
    "\n",
    "---"
   ]
  },
  {
   "cell_type": "markdown",
   "metadata": {},
   "source": [
    "## Start Here\n",
    "So let's get right to it! To make sure you guys are all set up, simply follow the 3 main steps below...\n",
    "\n",
    "## Step 1. Download & Install Docker\n",
    "**`Step 1.1.`** If you already have Docker installed, you can skip ahead to **`Step 2 (Run Docker's Terminal & Install Image)`**. Otherwise, go download Docker for your Windows version from the links below:\n",
    "- Windows 7 (and higher): https://www.docker.com/products/docker-toolbox (FYI, this is what I use for my Win7)\n",
    "- Windows 10: https://store.docker.com/editions/community/docker-ce-desktop-windows\n",
    "     \n",
    "> ### Note:\n",
    "> If you happen to have Git in your machine already, I suggest you uncheck the Git checkbox during the Docker installation and hopefully the installer should be able to locate and map Docker to your existing Git installation. If you don't do this, your machine would re-install Git and it might result to a path conflict.\n",
    "\n",
    ">> _Tip: Not sure if you have already Git installed?_ Open up your Windows terminal, Command Prompt, and run the command, **`git --version`**.\n",
    "\n",
    "![alt text](images/git-command.PNG \"Check Git Version\")\n",
    "\n",
    "---"
   ]
  },
  {
   "cell_type": "markdown",
   "metadata": {},
   "source": [
    "## Step 2. Run Docker's Terminal & Install Image\n",
    "Once you have installed Docker successfully,\n",
    "- **`Step 2.1.`** Go ahead and run the **Docker Quickstart Terminal** from your All Programs list. \n",
    "- **`Step 2.2.`** You can test it by entering the command **`docker run hello-world`**. If it looks like the image below, then it works! \n",
    "\n",
    "![alt text](images/docker-terminal.PNG \"Docker Terminal\")\n",
    "\n",
    "---\n",
    "\n",
    "- ** `Step 2.3.`** To download & install the TensorFlow image from the Docker terminal, enter the command: **`docker run -it gcr.io/tensorflow/tensorflow:latest-devel`**\n",
    "\n",
    "![alt text](images/docker-image.PNG \"Docker Image\")\n",
    "\n",
    "> ### Note:\n",
    "> This might take a while depending on your Internet connection. You might want to grab a cup of coffee or tea for this. Maybe go read a book or check your Facebook? Or you could just watch the download process all the way... it's up to you (: \n",
    "\n",
    "\n",
    "\n",
    "> ### Additional Note:\n",
    "> You might run into a problem with Git, like I did. If Docker still asks where your Git-bash (bash.exe) application path is, even after installation, then just help locate it manually and it should be able to work just fine afterwards.\n",
    ">> _Tip: Don't know where your `bash.exe` path is?_\n",
    "- Go to Windows Task Manager's Processes tab.\n",
    "- Locate `bash.exe` in the list.\n",
    "- Right-click on it, then select 'Open File Location'. That should be it.\n",
    "\n",
    "> Try running your Docker Quickstart Terminal again and give it your 'newfound path'. If you want, you can also do this manually or check the current path by opening the Docker Quickstart Terminal's properties (see an example output below). Then once you're able to load it, repeat **`Step 2.3.`** again.\n",
    "\n",
    "![alt text](images/docker-shortcut-properties.PNG \"Docker Shortcut Properties\")\n",
    "\n",
    "---\n",
    "\n",
    "- **`Step 2.4.`** Let's just do a Sanity Check. To see if you have installed the TensorFlow image successfully, let's run some TensorFlow  code using Python on the Docker Terminal. Start the Python interpreter by entering **`python`**.\n",
    "\n",
    "![alt text](images/tensorflow-test.PNG \"Python Tensorflow Test\")\n",
    "\n",
    "```python\n",
    "# type out or copy-paste this block of code on your terminal and run it\n",
    "\n",
    "import tensorflow as tf\n",
    "hello = tf.constant('Hello, World!')\n",
    "sesh = tf.Session()\n",
    "print(sesh.run(hello))\n",
    "\n",
    "# to exit python, enter the line below\n",
    "exit()\n",
    "```\n",
    "\n",
    "> If you see the `\"Hello, World!\"` output, then you know the image actually works! See the beauty of Docker right there? You were able to run the code without having to manually install Python, the TensorFlow library and the other libraries on your own. They are all packaged into the TensorFlow image which Docker handles very nicely in order for it to always run the same way. \n",
    "\n",
    "> (BTW, don't mind the warnings you see. They're not harmful.)\n",
    "\n",
    "> So yay! -- on to the last step...\n",
    "\n",
    "---"
   ]
  },
  {
   "cell_type": "markdown",
   "metadata": {},
   "source": [
    "## Step 3. Download Dataset\n",
    "Before we can actually start using TensorFlow, we will need data (images) to work with first.\n",
    "- **`Step 3.1`** So go ahead and exit from your Docker Terminal (Press Ctrl+D or type **`exit`**).\n",
    "- **`Step 3.2`** Navigate to your Users directory via Command Prompt: **`cd C:/Users/_your-username_`**\n",
    "- **`Step 3.3`** Create a directory with the name tf_files: **`mkdir tf_files`**\n",
    "- **`Step 3.4`** To download the images in this directory, enter: **`curl -O http://download.tensorflow.org/example_images/flower_photos.tgz`**\n",
    "- **`Step 3.5`** To unpack the downloaded file, enter: **`tar xzf flower_photos.tgz`** (Or unpack/unzip them as you normally would in Windows Explorer)\n",
    "\n",
    "In the end, your directory should contain two folders (`inception`, `flower_photos`) and a compressed tgz file (`flower_photos.tgz`) just like the image below.\n",
    "![alt text](images/directory.PNG \"Dataset Directory\")\n",
    "\n",
    "---\n"
   ]
  },
  {
   "cell_type": "markdown",
   "metadata": {
    "collapsed": true
   },
   "source": [
    "## Et, voila!\n",
    "\n",
    "### That's it! Hopefully, you already have Docker, the TensorFlow image, and the flower_photos dataset at this point.\n",
    "\n",
    "### If you do, then you are now ready for the workshop! We'll be doing some cool stuff with it. Using TensorFlow, we will learn how to train the machine to automatically recognize photos it hasn't seen before, all by itself. In other words, we will specifically be teaching an AI! :)\n",
    "\n",
    "### See you soon!\n",
    "\n",
    "> P.S. If you still run into any trouble, do feel free to let us know thru Sir Ilao. :)"
   ]
  }
 ],
 "metadata": {
  "anaconda-cloud": {},
  "kernelspec": {
   "display_name": "Python 2",
   "language": "python",
   "name": "python2"
  },
  "language_info": {
   "codemirror_mode": {
    "name": "ipython",
    "version": 2
   },
   "file_extension": ".py",
   "mimetype": "text/x-python",
   "name": "python",
   "nbconvert_exporter": "python",
   "pygments_lexer": "ipython2",
   "version": "2.7.12"
  }
 },
 "nbformat": 4,
 "nbformat_minor": 2
}
