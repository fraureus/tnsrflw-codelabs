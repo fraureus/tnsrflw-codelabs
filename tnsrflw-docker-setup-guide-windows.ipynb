{
 "cells": [
  {
   "cell_type": "markdown",
   "metadata": {
    "collapsed": true
   },
   "source": [
    "# TensorFlow+Docker Setup Guide for Windows"
   ]
  },
  {
   "cell_type": "markdown",
   "metadata": {},
   "source": [
    "Hi, guys! I'm Justin. I drafted this quick setup guide to help you guys prepare for our upcoming workshop on TensorFlow. I encourage you all to do this as early as possible, so we can immediately start with our session.\n",
    "\n",
    "There are actually many ways to install Tensorflow, but for purpose of the workshop, this guide will only show you how to install TensorFlow using Docker. Docker will do most of the heavy-lifting and handle the dependencies for us.\n",
    "\n",
    "> ### Note:\n",
    "> This guide will cover the Docker installation process for Windows only. That means the same instructions might not necessarily work for Mac or Linux. So if you do operate on a different machine, please follow the specific guides found at the respective links below. Once you have the Docker installed, you can start to follow along from Step 2 part of the guide.\n",
    "> - Docker for Mac OS X: https://docs.docker.com/docker-for-mac/\n",
    "> - Docker for Linux: https://www.tensorflow.org/versions/r0.12/get_started/os_setup.html#docker-installation\n",
    "\n",
    "![alt text](docker-whale.png \"Docker Logo\")\n",
    "\n",
    "> ## One more thing: Before you go any further, Docker is only available for 64-bit Windows! \n",
    "\n",
    ">> _Awww -- sad, I know. :(_\n",
    "\n",
    ">> But that's okay, you can still share with a classmate! :)\n",
    "\n",
    "---"
   ]
  },
  {
   "cell_type": "markdown",
   "metadata": {},
   "source": [
    "## Start Here\n",
    "So let's get right to it! To make sure you guys are all set up, simply follow the 3 main steps below...\n",
    "\n",
    "## Step 1. Download & Install Docker\n",
    "If you already have Docker installed, you can skip ahead to Step 2 (Install TensorFlow Image with Docker). Otherwise, go download Docker for your Windows version from the links below:\n",
    "\n",
    ">    - Windows 7: https://www.docker.com/products/docker-toolbox\n",
    ">    - Windows 10: https://store.docker.com/editions/community/docker-ce-desktop-windows\n",
    "     \n",
    "> ### Note:\n",
    "> If you happen to to have Git in your machine already, I suggest you uncheck the Git part during the Docker installation and hopefully the installer should be able to locate and map to your existing Git installation. If you don't uncheck it, your machine would re-install Git and it might result to a path conflict.\n",
    "\n",
    "> _Not sure if you have already Git installed?_ Open up your Command Prompt and run the command, `git --version`.\n",
    "\n",
    "![alt text](git-command.PNG \"Check Git Version\")\n",
    "\n",
    "---"
   ]
  },
  {
   "cell_type": "markdown",
   "metadata": {},
   "source": [
    "## 2. Run Docker's Terminal & Install Image\n",
    "Once you have installed Docker successfully,\n",
    "- Go ahead and run the **Docker Quickstart Terminal** from your All Programs list. \n",
    "- You can test it by entering the command `docker run hello-world`. If it looks like the image, then it works! \n",
    "\n",
    "![alt text](docker-terminal.PNG \"Docker Terminal\")\n",
    "\n",
    "---\n",
    "\n",
    "- To install the image from the Docker terminal, enter the command: `docker run -it gcr.io/tensorflow/tensorflow:latest-devel`\n",
    "\n",
    "![alt text](docker-image.PNG \"Docker Image\")\n",
    "\n",
    "> ### Note:\n",
    "> You might run into a problem with Git like I did. If it still asks where your Git-bash (bash.exe) application path is after installation, just help locate it manually and it should be able to work just fine afterwards.\n",
    ">> __Don't know where your `bash.exe` program is?__\n",
    "- Go to Windows Task Manager's Processes tab\n",
    "- then locate `bash.exe` in the list\n",
    "- Right-click on it, then select 'Open File Location'. \n",
    "\n",
    ">> That should be it. Try running your Docker Quickstart Terminal again and execute the same docker command from above.\n",
    "\n",
    "> ### Another Note:\n",
    "> This might take a while depending on your Internet connection. You might want to grab a cup of coffee or tea for this. Maybe go read a book or check your Facebook? Or you could just watch the download process all the way... it's up to you (: \n",
    "\n",
    "---\n",
    "\n",
    "- Sanity Check: To check if you have installed the TensorFlow Image successfully, let's run some Python code on the Docker Terminal:\n",
    "\n",
    "    ```python\n",
    "    # type and enter line-by-line\n",
    "\n",
    "    import tensorflow as tf\n",
    "    hello = tf.constant('Hello, World!')\n",
    "    sesh = tf.Session()\n",
    "    print(sesh.run(hello))\n",
    "\n",
    "    # to exit python, enter the line below\n",
    "    exit()\n",
    "    ```\n",
    "\n",
    "> If you see the \"Hello, World!\" output, then it works! Yay, on to the final step...\n",
    "\n",
    "---"
   ]
  },
  {
   "cell_type": "markdown",
   "metadata": {},
   "source": [
    "## 3. Download Dataset\n",
    "Before we can actually start using TensorFlow, we will need data (images) to work with first.\n",
    "- So go ahead and exit from your Docker Terminal (Press Ctrl+D or type `exit`)\n",
    "- Navigate to your User's directory via Command Prompt: `cd C:/Users/_your-username_`\n",
    "- Create a directory with the name: `mkdir tf_files`\n",
    "- To download the images in this directory, enter: `curl -O http://download.tensorflow.org/example_images/flower_photos.tgz`\n",
    "- To unpack the file, enter: `tar xzf flower_photos.tgz` (Or unpack them normally in Windows Explorer)\n",
    "- Your directory should have these files in the end:\n",
    "![alt text](directory.PNG \"Dataset Directory\")\n",
    "\n",
    "---\n"
   ]
  },
  {
   "cell_type": "markdown",
   "metadata": {
    "collapsed": true
   },
   "source": [
    "## FIN.\n",
    "\n",
    "## That's it! Hopefully, you already have Docker installed and the image dataset at this point.\n",
    "\n",
    "## If you do, you're now ready for the workshop! See you.\n",
    "\n",
    "> If you still run into any trouble, do feel free let us know thru Sir Ilao."
   ]
  }
 ],
 "metadata": {
  "anaconda-cloud": {},
  "kernelspec": {
   "display_name": "Python 2",
   "language": "python",
   "name": "python2"
  },
  "language_info": {
   "codemirror_mode": {
    "name": "ipython",
    "version": 2
   },
   "file_extension": ".py",
   "mimetype": "text/x-python",
   "name": "python",
   "nbconvert_exporter": "python",
   "pygments_lexer": "ipython2",
   "version": "2.7.12"
  }
 },
 "nbformat": 4,
 "nbformat_minor": 2
}
