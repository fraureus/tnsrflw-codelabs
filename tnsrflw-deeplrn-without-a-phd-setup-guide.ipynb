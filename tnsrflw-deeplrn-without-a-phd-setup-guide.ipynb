{
 "cells": [
  {
   "cell_type": "markdown",
   "metadata": {},
   "source": [
    "# \"TensorFlow and deep learning without a PhD\" Setup Guide\n",
    "\n",
    "Hi, guys! I'm Justin. I drafted this quick setup guide to help you guys prepare for our upcoming workshop on TensorFlow. I encourage you all to do this as early as possible so we can immediately start with our session.\n",
    "\n",
    "Here a checklist of what you'll need first:\n",
    "- **A 64-bit OS**\n",
    "- Python 3.5.x\n",
    "- TensorFlow\n",
    "- Matplotlib (A library for visualizations in Python)\n",
    "\n",
    "Detailed instructions of the setup can be found below.\n",
    "> **Note**: If you already have all of the above, then skip ahead to the **Repository Download** part of this guide."
   ]
  },
  {
   "cell_type": "markdown",
   "metadata": {},
   "source": [
    "## Start Here!\n",
    "First, you will need a machine that runs a 64-bit OS to be able to follow along with the guide. Reason for this is that the current TensorFlow distributions for Windows are available in 64-bit only. For non-Windows users (Mac & Linux), it would be preferred if you have a 64-bit system as well."
   ]
  },
  {
   "cell_type": "markdown",
   "metadata": {},
   "source": [
    "## Python 3.5.x & Matplotlib\n",
    "To be safe, this is what I used: [Python 3.5.2](https://www.python.org/downloads/release/python-352/). Otherwise, if it doesn't, then just refer to **[>this<](https://www.python.org/downloads/release/python-352/)** for the complete list of Python distributions. Since we'll be using 64-bit systems, please download the matching 64-bit version as well.\n",
    "\n",
    "For the **`Matplotlib`** library, it should already be included by default with the new Python distributions.\n",
    "     \n",
    "> **Note:** If you have another version of Python installed (like 2.7 or 3.6) and you don't want to make it your default, then feel free to uncheck those options that would add the new Python interpreter to your Path/environment variables. Then, just click Next, Next, Next,... :)\n",
    "\n",
    ">> _Tip: Not sure if you have Python installed already?_ Quickly open up your terminal, Command Prompt for Windows, and run the command, **`python -V`**.\n",
    "\n",
    "![Python Version Check](images/python-v.PNG \"Check Python Version\")\n",
    "\n",
    "> ### Another Note (Matplotlib):\n",
    "> If for some odd reason Matplotlib is still missing, just do a quick **`pip install matplotlib`** from your terminal.\n",
    "\n",
    "---"
   ]
  },
  {
   "cell_type": "markdown",
   "metadata": {},
   "source": [
    "## TensorFlow\n",
    "\n",
    "Once you have Python already, you can find the TensorFlow installation guide for your OS here: https://www.tensorflow.org/install/\n",
    "\n",
    "For some Windows users, the pip installer might not find the right TensorFlow distribution for your machine. So if you've installed the 64-bit version of Python 3.5.x, this line of command should do the trick: **`pip install --upgrade https://storage.googleapis.com/tensorflow/windows/cpu/tensorflow-0.12.0rc0-cp35-cp35m-win_amd64.whl`**\n",
    "\n",
    "> **Note:** For those with multiple versions of Python, I hope you didn't check out the *Python Launcher* in the first part of the installation. If you didn't, then, awesome, just add the syntax for the launcher **`py -3 -m`**  at the beginning of the command like this: \n",
    "\n",
    "> **`py -3 -m`** `pip install --upgrade https://storage.googleapis.com/tensorflow/windows/cpu/tensorflow-0.12.0rc0-cp35-cp35m-win_amd64.whl`\n",
    "\n",
    "![TensorFlow Download](images/py-3-tensorflow.PNG \"TensorFlow Download\")\n",
    "\n",
    "---"
   ]
  },
  {
   "cell_type": "markdown",
   "metadata": {},
   "source": [
    "## Optional Sanity Check\n",
    "\n",
    "Just to see if we have Matplotlib & TensorFlow so far. Run these commands below. If it returns any installation info, then you know you're good!\n",
    "\n",
    "- Matplotlib: **`pip show matplotlib`**\n",
    "- TensorFlow: **`pip show tensorflow`**\n",
    "\n",
    "> **`Note:`** Again, for those with multiple versions, just add **`py -3 -m`** at the beginning like for TensorFlow.\n",
    "\n",
    "> Here's what it looks like for TensorFlow!\n",
    "![Pip Show TensorFlow](images/py-3-tensorflow-pip.PNG \"Pip Show TensorFlow\")\n",
    "\n",
    "---"
   ]
  },
  {
   "cell_type": "markdown",
   "metadata": {},
   "source": [
    "## Repository Download\n",
    "\n",
    "(Whew) Finally! This is the last step. We'll be learning TensorFlow and deep learning using Google's sample code. Just download it for now and keep it aside anywhere in your machine.\n",
    "\n",
    "Get it from here: [Google MNIST Sample Code](https://github.com/martin-gorner/tensorflow-mnist-tutorial/archive/master.zip)\n",
    "\n",
    "> **Note:** For GIT users, you can also download the repository using the Web URL: \n",
    "\n",
    "> **`git clone https://github.com/martin-gorner/tensorflow-mnist-tutorial`**\n",
    "\n",
    "---"
   ]
  },
  {
   "cell_type": "markdown",
   "metadata": {
    "collapsed": true
   },
   "source": [
    "## Et, voila!\n",
    "\n",
    "### That's it! Hopefully, you already have completed the checklist and downloaded the sample code at this point.\n",
    "\n",
    "### If you do, then you are now ready for the workshop! We'll be doing some cool stuff with all of it. Using TensorFlow, we will learn how to train the machine to automatically recognize digits -- all by itself. Along the way, you'll be able to build some intuition on how machine learning and deep learning work.\n",
    "\n",
    "### See you soon!\n",
    "\n",
    "> P.S. If you still run into any trouble, do feel free to let us know thru Sir Ilao. :)"
   ]
  }
 ],
 "metadata": {
  "anaconda-cloud": {},
  "kernelspec": {
   "display_name": "Python 2",
   "language": "python",
   "name": "python2"
  },
  "language_info": {
   "codemirror_mode": {
    "name": "ipython",
    "version": 2
   },
   "file_extension": ".py",
   "mimetype": "text/x-python",
   "name": "python",
   "nbconvert_exporter": "python",
   "pygments_lexer": "ipython2",
   "version": "2.7.12"
  }
 },
 "nbformat": 4,
 "nbformat_minor": 2
}
